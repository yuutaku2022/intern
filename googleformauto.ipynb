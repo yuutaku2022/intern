{
 "cells": [
  {
   "cell_type": "code",
   "execution_count": 93,
   "id": "3ce6f08d-d53b-4347-80c5-3db7fb574e93",
   "metadata": {},
   "outputs": [],
   "source": [
    "from selenium import webdriver\n",
    "from time import sleep\n",
    "from selenium.webdriver.common.by import By\n",
    "from selenium.webdriver.chrome.service import Service\n",
    "from selenium import webdriver\n",
    "from selenium.webdriver.common.by import By\n",
    "from selenium.webdriver.support.ui import WebDriverWait\n",
    "from selenium.webdriver.support import expected_conditions as EC"
   ]
  },
  {
   "cell_type": "code",
   "execution_count": 94,
   "id": "2768b600-a550-4bda-aa76-b0dea5126306",
   "metadata": {},
   "outputs": [],
   "source": [
    "service = Service('chromedriver.exe')  # ChromeDriverのパス\n",
    "browser = webdriver.Chrome(service=service)\n",
    "url = 'https://docs.google.com/forms/d/e/1FAIpQLScedGCttnN2VGBsA65cgEO-rWiCz-Yi5mynyNdAmpQzbqoFrg/viewform'\n",
    "browser.get(url)"
   ]
  },
  {
   "cell_type": "code",
   "execution_count": 76,
   "id": "6d09cb67-90c5-4815-8db0-e0634902f6a5",
   "metadata": {},
   "outputs": [],
   "source": [
    "btn_departments = browser.find_elements(By.CSS_SELECTOR,\".AB7Lab.Id5V1\")"
   ]
  },
  {
   "cell_type": "code",
   "execution_count": 78,
   "id": "157fc81b-9e9b-4b50-8b47-97553da37056",
   "metadata": {},
   "outputs": [],
   "source": [
    "btn_departments = browser.find_elements(By.CSS_SELECTOR,\".AB7Lab.Id5V1\")\n",
    "btn_department = btn_departments[1]\n",
    "btn_department.click()"
   ]
  },
  {
   "cell_type": "code",
   "execution_count": 46,
   "id": "d583c5a1-36fb-47a1-a295-f5525746c381",
   "metadata": {},
   "outputs": [],
   "source": [
    "btn_foods = browser.find_elements(By.CLASS_NAME,\"MocG8c\")"
   ]
  },
  {
   "cell_type": "code",
   "execution_count": 54,
   "id": "3dbbf08a-9701-4ce9-98de-d6985536df43",
   "metadata": {},
   "outputs": [],
   "source": [
    "btn_food = btn_foods[0]\n",
    "btn_food.click()"
   ]
  },
  {
   "cell_type": "code",
   "execution_count": 61,
   "id": "a52a7982-5569-468e-b031-33c0a20279a4",
   "metadata": {},
   "outputs": [],
   "source": [
    "btn_deserts = browser.find_elements(By.CSS_SELECTOR,\".MocG8c.HZ3kWc.mhLiyf.OIC90c.LMgvRb\")\n",
    "btn_desert= btn_deserts[3]\n",
    "btn_desert.click()"
   ]
  },
  {
   "cell_type": "code",
   "execution_count": 63,
   "id": "af392414-0852-41c6-be90-a4e08fbb698d",
   "metadata": {},
   "outputs": [],
   "source": [
    "btn_send = browser.find_element(By.CSS_SELECTOR,\".l4V7wb.Fxmcue\")\n",
    "btn_send.click()"
   ]
  },
  {
   "cell_type": "code",
   "execution_count": 68,
   "id": "3d1735a1-6d3c-4e80-b9c0-5c0ec20ac41d",
   "metadata": {},
   "outputs": [],
   "source": [
    "# リンクがクリック可能になるまで待機\n",
    "link = WebDriverWait(browser, 10).until(\n",
    "    EC.element_to_be_clickable((By.LINK_TEXT, \"別の回答を送信\"))\n",
    ")\n",
    "# リンクをクリック\n",
    "link.click()"
   ]
  },
  {
   "cell_type": "code",
   "execution_count": 99,
   "id": "fbd72c27-afa7-4075-a521-d5c5203b8e11",
   "metadata": {},
   "outputs": [],
   "source": [
    "service = Service('chromedriver.exe')  # ChromeDriverのパス\n",
    "browser = webdriver.Chrome(service=service)\n",
    "url = 'https://docs.google.com/forms/d/e/1FAIpQLScedGCttnN2VGBsA65cgEO-rWiCz-Yi5mynyNdAmpQzbqoFrg/viewform'\n",
    "browser.get(url)\n",
    "\n",
    "for i in range(100):\n",
    "    btn_departments = browser.find_elements(By.CSS_SELECTOR,\".AB7Lab.Id5V1\")\n",
    "    btn_department = btn_departments[1]\n",
    "    btn_department.click()\n",
    "    \n",
    "    btn_foods = browser.find_elements(By.CLASS_NAME,\"MocG8c\")\n",
    "    btn_food = btn_foods[0]\n",
    "    btn_food.click()\n",
    "    sleep(1)\n",
    "    btn_deserts = browser.find_elements(By.CSS_SELECTOR,\".MocG8c.HZ3kWc.mhLiyf.OIC90c.LMgvRb\")\n",
    "    btn_desert= btn_deserts[3]\n",
    "    btn_desert.click()\n",
    "    sleep(1)\n",
    "    btn_send = browser.find_element(By.CSS_SELECTOR,\".l4V7wb.Fxmcue\")\n",
    "    btn_send.click()\n",
    "    \n",
    "    # リンクがクリック可能になるまで待機\n",
    "    link = WebDriverWait(browser, 10).until(\n",
    "        EC.element_to_be_clickable((By.LINK_TEXT, \"別の回答を送信\"))\n",
    "    )\n",
    "    # リンクをクリック\n",
    "    link.click()"
   ]
  },
  {
   "cell_type": "code",
   "execution_count": 100,
   "id": "e0be94bc-d80e-4ddb-8362-29ae338fa2ed",
   "metadata": {},
   "outputs": [
    {
     "ename": "WebDriverException",
     "evalue": "Message: disconnected: not connected to DevTools\n  (failed to check if window was closed: disconnected: not connected to DevTools)\n  (Session info: chrome=130.0.6723.117)\nStacktrace:\n\tGetHandleVerifier [0x00007FF6FCA538A5+3004357]\n\t(No symbol) [0x00007FF6FC6E9970]\n\t(No symbol) [0x00007FF6FC59582A]\n\t(No symbol) [0x00007FF6FC5825DC]\n\t(No symbol) [0x00007FF6FC5824A0]\n\t(No symbol) [0x00007FF6FC5981A1]\n\t(No symbol) [0x00007FF6FC62B379]\n\t(No symbol) [0x00007FF6FC60B983]\n\t(No symbol) [0x00007FF6FC5D7628]\n\t(No symbol) [0x00007FF6FC5D8791]\n\tGetHandleVerifier [0x00007FF6FCA7A00D+3161901]\n\tGetHandleVerifier [0x00007FF6FCACE060+3506048]\n\tGetHandleVerifier [0x00007FF6FCAC400D+3465005]\n\tGetHandleVerifier [0x00007FF6FC840EEB+830987]\n\t(No symbol) [0x00007FF6FC6F467F]\n\t(No symbol) [0x00007FF6FC6F09D4]\n\t(No symbol) [0x00007FF6FC6F0B6D]\n\t(No symbol) [0x00007FF6FC6E0149]\n\tBaseThreadInitThunk [0x00007FF82873257D+29]\n\tRtlUserThreadStart [0x00007FF82948AF08+40]\n",
     "output_type": "error",
     "traceback": [
      "\u001b[1;31m---------------------------------------------------------------------------\u001b[0m",
      "\u001b[1;31mWebDriverException\u001b[0m                        Traceback (most recent call last)",
      "Cell \u001b[1;32mIn[100], line 36\u001b[0m\n\u001b[0;32m     34\u001b[0m \u001b[38;5;66;03m# デザート選択ボタンを探してクリック\u001b[39;00m\n\u001b[0;32m     35\u001b[0m sleep(\u001b[38;5;241m1\u001b[39m)\n\u001b[1;32m---> 36\u001b[0m btn_deserts \u001b[38;5;241m=\u001b[39m \u001b[43mbrowser\u001b[49m\u001b[38;5;241;43m.\u001b[39;49m\u001b[43mfind_elements\u001b[49m\u001b[43m(\u001b[49m\u001b[43mBy\u001b[49m\u001b[38;5;241;43m.\u001b[39;49m\u001b[43mCSS_SELECTOR\u001b[49m\u001b[43m,\u001b[49m\u001b[38;5;124;43m\"\u001b[39;49m\u001b[38;5;124;43m.MocG8c.HZ3kWc.mhLiyf.OIC90c.LMgvRb\u001b[39;49m\u001b[38;5;124;43m\"\u001b[39;49m\u001b[43m)\u001b[49m\n\u001b[0;32m     37\u001b[0m btn_desert\u001b[38;5;241m=\u001b[39m btn_deserts[\u001b[38;5;241m3\u001b[39m]\n\u001b[0;32m     38\u001b[0m btn_desert\u001b[38;5;241m.\u001b[39mclick()\n",
      "File \u001b[1;32m~\\AppData\\Local\\Programs\\Python\\Python312\\Lib\\site-packages\\selenium\\webdriver\\remote\\webdriver.py:788\u001b[0m, in \u001b[0;36mWebDriver.find_elements\u001b[1;34m(self, by, value)\u001b[0m\n\u001b[0;32m    784\u001b[0m     \u001b[38;5;28;01mreturn\u001b[39;00m \u001b[38;5;28mself\u001b[39m\u001b[38;5;241m.\u001b[39mexecute_script(find_element_js, by\u001b[38;5;241m.\u001b[39mto_dict())\n\u001b[0;32m    786\u001b[0m \u001b[38;5;66;03m# Return empty list if driver returns null\u001b[39;00m\n\u001b[0;32m    787\u001b[0m \u001b[38;5;66;03m# See https://github.com/SeleniumHQ/selenium/issues/4555\u001b[39;00m\n\u001b[1;32m--> 788\u001b[0m \u001b[38;5;28;01mreturn\u001b[39;00m \u001b[38;5;28;43mself\u001b[39;49m\u001b[38;5;241;43m.\u001b[39;49m\u001b[43mexecute\u001b[49m\u001b[43m(\u001b[49m\u001b[43mCommand\u001b[49m\u001b[38;5;241;43m.\u001b[39;49m\u001b[43mFIND_ELEMENTS\u001b[49m\u001b[43m,\u001b[49m\u001b[43m \u001b[49m\u001b[43m{\u001b[49m\u001b[38;5;124;43m\"\u001b[39;49m\u001b[38;5;124;43musing\u001b[39;49m\u001b[38;5;124;43m\"\u001b[39;49m\u001b[43m:\u001b[49m\u001b[43m \u001b[49m\u001b[43mby\u001b[49m\u001b[43m,\u001b[49m\u001b[43m \u001b[49m\u001b[38;5;124;43m\"\u001b[39;49m\u001b[38;5;124;43mvalue\u001b[39;49m\u001b[38;5;124;43m\"\u001b[39;49m\u001b[43m:\u001b[49m\u001b[43m \u001b[49m\u001b[43mvalue\u001b[49m\u001b[43m}\u001b[49m\u001b[43m)\u001b[49m[\u001b[38;5;124m\"\u001b[39m\u001b[38;5;124mvalue\u001b[39m\u001b[38;5;124m\"\u001b[39m] \u001b[38;5;129;01mor\u001b[39;00m []\n",
      "File \u001b[1;32m~\\AppData\\Local\\Programs\\Python\\Python312\\Lib\\site-packages\\selenium\\webdriver\\remote\\webdriver.py:380\u001b[0m, in \u001b[0;36mWebDriver.execute\u001b[1;34m(self, driver_command, params)\u001b[0m\n\u001b[0;32m    378\u001b[0m response \u001b[38;5;241m=\u001b[39m \u001b[38;5;28mself\u001b[39m\u001b[38;5;241m.\u001b[39mcommand_executor\u001b[38;5;241m.\u001b[39mexecute(driver_command, params)\n\u001b[0;32m    379\u001b[0m \u001b[38;5;28;01mif\u001b[39;00m response:\n\u001b[1;32m--> 380\u001b[0m     \u001b[38;5;28;43mself\u001b[39;49m\u001b[38;5;241;43m.\u001b[39;49m\u001b[43merror_handler\u001b[49m\u001b[38;5;241;43m.\u001b[39;49m\u001b[43mcheck_response\u001b[49m\u001b[43m(\u001b[49m\u001b[43mresponse\u001b[49m\u001b[43m)\u001b[49m\n\u001b[0;32m    381\u001b[0m     response[\u001b[38;5;124m\"\u001b[39m\u001b[38;5;124mvalue\u001b[39m\u001b[38;5;124m\"\u001b[39m] \u001b[38;5;241m=\u001b[39m \u001b[38;5;28mself\u001b[39m\u001b[38;5;241m.\u001b[39m_unwrap_value(response\u001b[38;5;241m.\u001b[39mget(\u001b[38;5;124m\"\u001b[39m\u001b[38;5;124mvalue\u001b[39m\u001b[38;5;124m\"\u001b[39m, \u001b[38;5;28;01mNone\u001b[39;00m))\n\u001b[0;32m    382\u001b[0m     \u001b[38;5;28;01mreturn\u001b[39;00m response\n",
      "File \u001b[1;32m~\\AppData\\Local\\Programs\\Python\\Python312\\Lib\\site-packages\\selenium\\webdriver\\remote\\errorhandler.py:229\u001b[0m, in \u001b[0;36mErrorHandler.check_response\u001b[1;34m(self, response)\u001b[0m\n\u001b[0;32m    227\u001b[0m         alert_text \u001b[38;5;241m=\u001b[39m value[\u001b[38;5;124m\"\u001b[39m\u001b[38;5;124malert\u001b[39m\u001b[38;5;124m\"\u001b[39m]\u001b[38;5;241m.\u001b[39mget(\u001b[38;5;124m\"\u001b[39m\u001b[38;5;124mtext\u001b[39m\u001b[38;5;124m\"\u001b[39m)\n\u001b[0;32m    228\u001b[0m     \u001b[38;5;28;01mraise\u001b[39;00m exception_class(message, screen, stacktrace, alert_text)  \u001b[38;5;66;03m# type: ignore[call-arg]  # mypy is not smart enough here\u001b[39;00m\n\u001b[1;32m--> 229\u001b[0m \u001b[38;5;28;01mraise\u001b[39;00m exception_class(message, screen, stacktrace)\n",
      "\u001b[1;31mWebDriverException\u001b[0m: Message: disconnected: not connected to DevTools\n  (failed to check if window was closed: disconnected: not connected to DevTools)\n  (Session info: chrome=130.0.6723.117)\nStacktrace:\n\tGetHandleVerifier [0x00007FF6FCA538A5+3004357]\n\t(No symbol) [0x00007FF6FC6E9970]\n\t(No symbol) [0x00007FF6FC59582A]\n\t(No symbol) [0x00007FF6FC5825DC]\n\t(No symbol) [0x00007FF6FC5824A0]\n\t(No symbol) [0x00007FF6FC5981A1]\n\t(No symbol) [0x00007FF6FC62B379]\n\t(No symbol) [0x00007FF6FC60B983]\n\t(No symbol) [0x00007FF6FC5D7628]\n\t(No symbol) [0x00007FF6FC5D8791]\n\tGetHandleVerifier [0x00007FF6FCA7A00D+3161901]\n\tGetHandleVerifier [0x00007FF6FCACE060+3506048]\n\tGetHandleVerifier [0x00007FF6FCAC400D+3465005]\n\tGetHandleVerifier [0x00007FF6FC840EEB+830987]\n\t(No symbol) [0x00007FF6FC6F467F]\n\t(No symbol) [0x00007FF6FC6F09D4]\n\t(No symbol) [0x00007FF6FC6F0B6D]\n\t(No symbol) [0x00007FF6FC6E0149]\n\tBaseThreadInitThunk [0x00007FF82873257D+29]\n\tRtlUserThreadStart [0x00007FF82948AF08+40]\n"
     ]
    }
   ],
   "source": [
    "from selenium import webdriver\n",
    "from selenium.webdriver.common.by import By\n",
    "from selenium.webdriver.chrome.service import Service\n",
    "from selenium.webdriver.support.ui import WebDriverWait\n",
    "from selenium.webdriver.support import expected_conditions as EC\n",
    "from time import sleep\n",
    "from selenium.webdriver.chrome.options import Options\n",
    "\n",
    "options = Options()\n",
    "options.add_argument('--headless')\n",
    "# ChromeDriverのパス\n",
    "service = Service('chromedriver.exe')\n",
    "browser = webdriver.Chrome(service=service,options=options)\n",
    "\n",
    "url = 'https://docs.google.com/forms/d/e/1FAIpQLScedGCttnN2VGBsA65cgEO-rWiCz-Yi5mynyNdAmpQzbqoFrg/viewform'\n",
    "browser.get(url)\n",
    "\n",
    "# 回答を1000回送信\n",
    "for i in range(1000):\n",
    "    # 部門選択ボタンを探してクリック\n",
    "        btn_departments = WebDriverWait(browser, 10).until(\n",
    "            EC.presence_of_all_elements_located((By.CSS_SELECTOR, \".AB7Lab.Id5V1\"))\n",
    "        )\n",
    "        btn_department = btn_departments[1]  # 部門選択\n",
    "        btn_department.click()\n",
    "\n",
    "        # 食品選択ボタンを探してクリック\n",
    "        btn_foods = WebDriverWait(browser, 10).until(\n",
    "            EC.presence_of_all_elements_located((By.CLASS_NAME, \"MocG8c\"))\n",
    "        )\n",
    "        btn_food = btn_foods[0]\n",
    "        btn_food.click()\n",
    "\n",
    "        # デザート選択ボタンを探してクリック\n",
    "        sleep(1)\n",
    "        btn_deserts = browser.find_elements(By.CSS_SELECTOR,\".MocG8c.HZ3kWc.mhLiyf.OIC90c.LMgvRb\")\n",
    "        btn_desert= btn_deserts[3]\n",
    "        btn_desert.click()\n",
    "\n",
    "        # 送信ボタンを探してクリック\n",
    "        sleep(1)\n",
    "        btn_send = browser.find_element(By.CSS_SELECTOR,\".l4V7wb.Fxmcue\")\n",
    "        btn_send.click()\n",
    "\n",
    "        # リンクがクリック可能になるまで待機し、クリック\n",
    "        link = WebDriverWait(browser, 10).until(\n",
    "            EC.element_to_be_clickable((By.LINK_TEXT, \"別の回答を送信\"))\n",
    "        )\n",
    "        link.click()\n",
    "\n",
    "\n",
    "\n"
   ]
  },
  {
   "cell_type": "code",
   "execution_count": null,
   "id": "b174d0e7-2450-4262-8483-345f926732ec",
   "metadata": {},
   "outputs": [],
   "source": []
  },
  {
   "cell_type": "code",
   "execution_count": null,
   "id": "9b787824-02d7-4847-bccf-f62bb5ddff9c",
   "metadata": {},
   "outputs": [],
   "source": []
  }
 ],
 "metadata": {
  "kernelspec": {
   "display_name": "Python 3 (ipykernel)",
   "language": "python",
   "name": "python3"
  },
  "language_info": {
   "codemirror_mode": {
    "name": "ipython",
    "version": 3
   },
   "file_extension": ".py",
   "mimetype": "text/x-python",
   "name": "python",
   "nbconvert_exporter": "python",
   "pygments_lexer": "ipython3",
   "version": "3.12.4"
  }
 },
 "nbformat": 4,
 "nbformat_minor": 5
}
