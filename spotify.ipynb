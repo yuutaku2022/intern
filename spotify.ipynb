{
 "cells": [
  {
   "cell_type": "code",
   "execution_count": 3,
   "id": "4dc78a13-b4ac-4130-9e8e-a46060f027cb",
   "metadata": {},
   "outputs": [],
   "source": [
    "from selenium import webdriver\n",
    "from time import sleep\n",
    "from selenium.webdriver.common.by import By\n",
    "from selenium.webdriver.chrome.service import Service\n",
    "from selenium import webdriver\n",
    "from selenium.webdriver.common.by import By\n",
    "from selenium.webdriver.support.ui import WebDriverWait\n",
    "from selenium.webdriver.support import expected_conditions as EC\n",
    "import requests\n",
    "from bs4 import BeautifulSoup"
   ]
  },
  {
   "cell_type": "code",
   "execution_count": 4,
   "id": "d55b2054-7f22-4f5e-ab82-ca81b3887a3e",
   "metadata": {},
   "outputs": [
    {
     "name": "stdout",
     "output_type": "stream",
     "text": [
      "Collecting spotipy\n",
      "  Downloading spotipy-2.24.0-py3-none-any.whl.metadata (4.9 kB)\n",
      "Collecting redis>=3.5.3 (from spotipy)\n",
      "  Downloading redis-5.2.0-py3-none-any.whl.metadata (9.1 kB)\n",
      "Requirement already satisfied: requests>=2.25.0 in c:\\users\\yuuta\\appdata\\local\\programs\\python\\python312\\lib\\site-packages (from spotipy) (2.32.3)\n",
      "Requirement already satisfied: urllib3>=1.26.0 in c:\\users\\yuuta\\appdata\\local\\programs\\python\\python312\\lib\\site-packages (from spotipy) (2.2.3)\n",
      "Requirement already satisfied: charset-normalizer<4,>=2 in c:\\users\\yuuta\\appdata\\local\\programs\\python\\python312\\lib\\site-packages (from requests>=2.25.0->spotipy) (3.4.0)\n",
      "Requirement already satisfied: idna<4,>=2.5 in c:\\users\\yuuta\\appdata\\local\\programs\\python\\python312\\lib\\site-packages (from requests>=2.25.0->spotipy) (3.10)\n",
      "Requirement already satisfied: certifi>=2017.4.17 in c:\\users\\yuuta\\appdata\\local\\programs\\python\\python312\\lib\\site-packages (from requests>=2.25.0->spotipy) (2024.8.30)\n",
      "Downloading spotipy-2.24.0-py3-none-any.whl (30 kB)\n",
      "Downloading redis-5.2.0-py3-none-any.whl (261 kB)\n",
      "Installing collected packages: redis, spotipy\n",
      "Successfully installed redis-5.2.0 spotipy-2.24.0\n"
     ]
    }
   ],
   "source": [
    "!pip install spotipy"
   ]
  },
  {
   "cell_type": "code",
   "execution_count": 5,
   "id": "27584fea-60b7-47b6-8115-c01c123d0878",
   "metadata": {},
   "outputs": [],
   "source": [
    "import spotipy\n",
    "from spotipy.oauth2 import SpotifyClientCredentials\n"
   ]
  },
  {
   "cell_type": "code",
   "execution_count": 6,
   "id": "a51408f6-0ac1-4a33-9323-15020c2990c8",
   "metadata": {},
   "outputs": [],
   "source": [
    "sp = spotipy.Spotify(auth_manager=SpotifyClientCredentials(client_id=\"ca2e3ec0553a46dfa72b37bdddc44379\",\n",
    "                                                           client_secret=\"b8cb667bcb1340cd978d0afa98d2bcb3\"))"
   ]
  },
  {
   "cell_type": "code",
   "execution_count": 13,
   "id": "fc3ecd7d-5cfb-49bb-a31f-a3523d3c5eb1",
   "metadata": {},
   "outputs": [
    {
     "name": "stderr",
     "output_type": "stream",
     "text": [
      "Couldn't read cache at: .cache\n",
      "Couldn't write token to cache at: .cache\n"
     ]
    },
    {
     "name": "stdout",
     "output_type": "stream",
     "text": [
      "0 LOSER\n",
      "1 KICK BACK\n",
      "2 打上花火\n",
      "3 ピースサイン - Peace Sign\n",
      "4 Lemon\n",
      "5 KICK BACK\n",
      "6 さよーならまたいつか！- Sayonara\n",
      "7 Lemon\n",
      "8 アイネクライネ\n",
      "9 打上花火\n",
      "10 感電\n",
      "11 さよーならまたいつか！- Sayonara\n",
      "12 RED OUT\n",
      "13 がらくた - JUNK\n",
      "14 ゴーゴー幽霊船\n",
      "15 がらくた - JUNK\n",
      "16 灰色と青 ( + 菅田将暉 )\n",
      "17 春雷\n",
      "18 Flamingo\n",
      "19 地球儀 - Spinning Globe\n",
      "20 死神\n",
      "21 死神\n",
      "22 群青\n",
      "23 LADY\n",
      "24 RED OUT\n",
      "25 砂の惑星 ( + 初音ミク )\n",
      "26 LADY\n",
      "27 マルゲリータ ＋ アイナ・ジ・エンド\n",
      "28 馬と鹿\n",
      "29 KICK BACK -ANIME edit\n"
     ]
    }
   ],
   "source": [
    "results = sp.search(q='米津玄師', limit=30)\n",
    "for idx, track in enumerate(results['tracks']['items']):\n",
    "    print(idx, track['name'])"
   ]
  },
  {
   "cell_type": "code",
   "execution_count": null,
   "id": "a103d0f1-09d9-46f9-8796-e9a85f8e467c",
   "metadata": {},
   "outputs": [],
   "source": []
  }
 ],
 "metadata": {
  "kernelspec": {
   "display_name": "Python 3 (ipykernel)",
   "language": "python",
   "name": "python3"
  },
  "language_info": {
   "codemirror_mode": {
    "name": "ipython",
    "version": 3
   },
   "file_extension": ".py",
   "mimetype": "text/x-python",
   "name": "python",
   "nbconvert_exporter": "python",
   "pygments_lexer": "ipython3",
   "version": "3.12.4"
  }
 },
 "nbformat": 4,
 "nbformat_minor": 5
}
